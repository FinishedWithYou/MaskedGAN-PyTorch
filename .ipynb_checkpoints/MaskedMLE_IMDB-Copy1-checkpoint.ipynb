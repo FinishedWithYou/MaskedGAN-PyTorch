{
 "cells": [
  {
   "cell_type": "code",
   "execution_count": 1,
   "metadata": {
    "collapsed": true
   },
   "outputs": [],
   "source": [
    "import pandas as pd\n",
    "import numpy as np\n",
    "from tqdm import tqdm\n",
    "\n",
    "import torch\n",
    "import torch.nn as nn\n",
    "from torch.nn import functional as F\n",
    "from torch import optim\n",
    "from IPython.display import clear_output\n",
    "import os\n",
    "from lib.utils import load_imdb_data\n",
    "from lib.utils import vocab_idxs\n",
    "from lib.utils import sents2matrix\n",
    "os.environ[\"CUDA_VISIBLE_DEVICES\"]=\"0\"\n",
    "!export CUDA_LAUNCH_BLOCKING=1"
   ]
  },
  {
   "cell_type": "code",
   "execution_count": 6,
   "metadata": {
    "collapsed": true
   },
   "outputs": [],
   "source": [
    "import os\n",
    "arr = os.listdir('aclImdb/test/pos') + os.listdir('aclImdb/test/neg')"
   ]
  },
  {
   "cell_type": "code",
   "execution_count": null,
   "metadata": {
    "collapsed": true
   },
   "outputs": [],
   "source": []
  },
  {
   "cell_type": "code",
   "execution_count": 63,
   "metadata": {
    "collapsed": true
   },
   "outputs": [],
   "source": [
    "import os\n",
    "import re\n",
    "from tqdm import tqdm\n",
    "\n",
    "def load_imdb_data(path='', seq_len=40, gen=True):\n",
    "    \"\"\"\n",
    "    Loads IMDB 100k reviews\n",
    "    \n",
    "    path: str, path to the aclImdb folder\n",
    "    seq_len: minimum length of sequence\n",
    "    gen: if True all the reviews will be length of seq_len\n",
    "         otherwise function will return sequences of len >= seq_len\n",
    "    \"\"\"\n",
    "    prog = re.compile('[A-Za-z0-9]+')\n",
    "    \n",
    "    paths = [path+'aclImdb/test/pos', path+'aclImdb/test/neg', \n",
    "             path+'aclImdb/train/pos', path+'aclImdb/train/neg', \n",
    "             path+'aclImdb/train/unsup/']\n",
    "    \n",
    "    \n",
    "    reviews = []\n",
    "    for p in tqdm(paths):\n",
    "        files = os.listdir(p)\n",
    "        for file in files:\n",
    "            with open(p + '/' + file, 'r') as f:\n",
    "                rev = f.read()\n",
    "\n",
    "            rev = rev.replace(' br ', ' ')\n",
    "            if len(prog.findall(rev)) >= seq_len:\n",
    "                if gen:\n",
    "                    reviews.append(['<sos>'] + prog.findall(rev)[:seq_len])\n",
    "                else:\n",
    "                    reviews.append(['<sos>'] + prog.findall(rev))\n",
    "    return reviews"
   ]
  },
  {
   "cell_type": "code",
   "execution_count": 30,
   "metadata": {
    "collapsed": true
   },
   "outputs": [
    {
     "name": "stderr",
     "output_type": "stream",
     "text": [
      "  0%|          | 0/5 [00:00<?, ?it/s]\n",
      "  0%|          | 0/12500 [00:00<?, ?it/s]\u001b[A\n",
      "  5%|▍         | 564/12500 [00:00<00:02, 5588.30it/s]\u001b[A\n",
      "  8%|▊         | 1033/12500 [00:00<00:02, 5141.14it/s]\u001b[A\n",
      " 12%|█▏        | 1543/12500 [00:00<00:02, 5122.30it/s]\u001b[A\n",
      " 17%|█▋        | 2126/12500 [00:00<00:01, 5298.93it/s]\u001b[A\n",
      " 21%|██▏       | 2680/12500 [00:00<00:01, 5345.41it/s]\u001b[A\n",
      " 26%|██▌       | 3207/12500 [00:00<00:01, 5334.06it/s]\u001b[A\n",
      " 30%|███       | 3764/12500 [00:00<00:01, 5366.33it/s]\u001b[A\n",
      " 34%|███▍      | 4281/12500 [00:00<00:01, 5341.39it/s]\u001b[A\n",
      " 39%|███▊      | 4841/12500 [00:00<00:01, 5368.76it/s]\u001b[A\n",
      " 43%|████▎     | 5363/12500 [00:01<00:01, 5349.73it/s]\u001b[A\n",
      " 47%|████▋     | 5904/12500 [00:01<00:01, 5354.08it/s]\u001b[A\n",
      " 52%|█████▏    | 6446/12500 [00:01<00:01, 5358.28it/s]\u001b[A\n",
      " 56%|█████▌    | 6977/12500 [00:01<00:01, 5336.05it/s]\u001b[A\n",
      " 60%|██████    | 7501/12500 [00:01<00:00, 5304.95it/s]\u001b[A\n",
      " 64%|██████▍   | 8016/12500 [00:01<00:00, 5263.97it/s]\u001b[A\n",
      " 68%|██████▊   | 8536/12500 [00:01<00:00, 5259.89it/s]\u001b[A\n",
      " 73%|███████▎  | 9093/12500 [00:01<00:00, 5277.62it/s]\u001b[A\n",
      " 77%|███████▋  | 9654/12500 [00:01<00:00, 5295.28it/s]\u001b[A\n",
      " 82%|████████▏ | 10222/12500 [00:01<00:00, 5315.04it/s]\u001b[A\n",
      " 86%|████████▌ | 10766/12500 [00:02<00:00, 5313.69it/s]\u001b[A\n",
      " 90%|█████████ | 11306/12500 [00:02<00:00, 5307.01it/s]\u001b[A\n",
      " 95%|█████████▍| 11862/12500 [00:02<00:00, 5318.19it/s]\u001b[A\n",
      " 99%|█████████▉| 12409/12500 [00:02<00:00, 5324.20it/s]\u001b[A\n",
      " 20%|██        | 1/5 [00:02<00:09,  2.37s/it]13.64it/s]\u001b[A\n",
      "  0%|          | 0/12500 [00:00<?, ?it/s]\u001b[A\n",
      "  4%|▍         | 544/12500 [00:00<00:02, 5401.06it/s]\u001b[A\n",
      "  9%|▊         | 1076/12500 [00:00<00:02, 5361.23it/s]\u001b[A\n",
      " 13%|█▎        | 1632/12500 [00:00<00:02, 5418.97it/s]\u001b[A\n",
      " 17%|█▋        | 2177/12500 [00:00<00:01, 5425.54it/s]\u001b[A\n",
      " 22%|██▏       | 2705/12500 [00:00<00:01, 5395.96it/s]\u001b[A\n",
      " 26%|██▌       | 3223/12500 [00:00<00:01, 5355.96it/s]\u001b[A\n",
      " 30%|██▉       | 3732/12500 [00:00<00:01, 5318.52it/s]\u001b[A\n",
      " 34%|███▍      | 4256/12500 [00:00<00:01, 5309.00it/s]\u001b[A\n",
      " 38%|███▊      | 4776/12500 [00:00<00:01, 5296.85it/s]\u001b[A\n",
      " 42%|████▏     | 5289/12500 [00:01<00:01, 5278.74it/s]\u001b[A\n",
      " 46%|████▋     | 5794/12500 [00:01<00:01, 5252.41it/s]\u001b[A\n",
      " 50%|█████     | 6304/12500 [00:01<00:01, 5239.46it/s]\u001b[A\n",
      " 54%|█████▍    | 6809/12500 [00:01<00:01, 5205.10it/s]\u001b[A\n",
      " 59%|█████▊    | 7326/12500 [00:01<00:00, 5202.43it/s]\u001b[A\n",
      " 63%|██████▎   | 7860/12500 [00:01<00:00, 5210.96it/s]\u001b[A\n",
      " 67%|██████▋   | 8376/12500 [00:01<00:00, 5205.45it/s]\u001b[A\n",
      " 71%|███████   | 8889/12500 [00:01<00:00, 5089.01it/s]\u001b[A\n",
      " 75%|███████▌  | 9385/12500 [00:01<00:00, 5081.75it/s]\u001b[A\n",
      " 79%|███████▉  | 9925/12500 [00:01<00:00, 5097.40it/s]\u001b[A\n",
      " 83%|████████▎ | 10422/12500 [00:02<00:00, 5034.61it/s]\u001b[A\n",
      " 87%|████████▋ | 10891/12500 [00:02<00:00, 4935.83it/s]\u001b[A\n",
      " 91%|█████████ | 11323/12500 [00:02<00:00, 4897.75it/s]\u001b[A\n",
      " 94%|█████████▍| 11748/12500 [00:02<00:00, 4849.11it/s]\u001b[A\n",
      " 98%|█████████▊| 12219/12500 [00:02<00:00, 4843.76it/s]\u001b[A\n",
      " 40%|████      | 2/5 [00:04<00:07,  2.49s/it]46.50it/s]\u001b[A\n",
      "  0%|          | 0/12500 [00:00<?, ?it/s]\u001b[A\n",
      "  4%|▍         | 501/12500 [00:00<00:02, 4929.95it/s]\u001b[A\n",
      "  7%|▋         | 928/12500 [00:00<00:02, 4604.41it/s]\u001b[A\n",
      " 11%|█         | 1355/12500 [00:00<00:02, 4486.67it/s]\u001b[A\n",
      " 14%|█▍        | 1802/12500 [00:00<00:02, 4478.94it/s]\u001b[A\n",
      " 18%|█▊        | 2244/12500 [00:00<00:02, 4464.50it/s]\u001b[A\n",
      " 22%|██▏       | 2752/12500 [00:00<00:02, 4568.67it/s]\u001b[A\n",
      " 26%|██▌       | 3248/12500 [00:00<00:02, 4622.39it/s]\u001b[A\n",
      " 30%|██▉       | 3718/12500 [00:00<00:01, 4633.73it/s]\u001b[A\n",
      " 33%|███▎      | 4165/12500 [00:00<00:01, 4559.60it/s]\u001b[A\n",
      " 37%|███▋      | 4635/12500 [00:01<00:01, 4571.57it/s]\u001b[A\n",
      " 41%|████      | 5079/12500 [00:01<00:01, 4482.47it/s]\u001b[A\n",
      " 44%|████▍     | 5502/12500 [00:01<00:01, 4458.43it/s]\u001b[A\n",
      " 48%|████▊     | 5997/12500 [00:01<00:01, 4494.51it/s]\u001b[A\n",
      " 52%|█████▏    | 6441/12500 [00:01<00:01, 4409.46it/s]\u001b[A\n",
      " 55%|█████▍    | 6857/12500 [00:01<00:01, 4341.97it/s]\u001b[A\n",
      " 59%|█████▊    | 7319/12500 [00:01<00:01, 4358.55it/s]\u001b[A\n",
      " 63%|██████▎   | 7862/12500 [00:01<00:01, 4418.67it/s]\u001b[A\n",
      " 67%|██████▋   | 8316/12500 [00:01<00:00, 4384.59it/s]\u001b[A\n",
      " 70%|███████   | 8783/12500 [00:01<00:00, 4399.28it/s]\u001b[A\n",
      " 74%|███████▍  | 9295/12500 [00:02<00:00, 4433.21it/s]\u001b[A\n",
      " 78%|███████▊  | 9778/12500 [00:02<00:00, 4451.21it/s]\u001b[A\n",
      " 82%|████████▏ | 10248/12500 [00:02<00:00, 4448.32it/s]\u001b[A\n",
      " 86%|████████▌ | 10709/12500 [00:02<00:00, 4442.56it/s]\u001b[A\n",
      " 89%|████████▉ | 11161/12500 [00:02<00:00, 4432.77it/s]\u001b[A\n",
      " 93%|█████████▎| 11604/12500 [00:02<00:00, 4429.29it/s]\u001b[A\n",
      " 96%|█████████▋| 12045/12500 [00:02<00:00, 4402.76it/s]\u001b[A\n",
      " 60%|██████    | 3/5 [00:07<00:05,  2.61s/it]09.43it/s]\u001b[A\n",
      "  0%|          | 0/12500 [00:00<?, ?it/s]\u001b[A\n",
      "  3%|▎         | 430/12500 [00:00<00:02, 4268.50it/s]\u001b[A\n",
      "  6%|▌         | 774/12500 [00:00<00:03, 3844.36it/s]\u001b[A\n",
      "  9%|▉         | 1119/12500 [00:00<00:03, 3714.18it/s]\u001b[A\n",
      " 13%|█▎        | 1590/12500 [00:00<00:02, 3962.61it/s]\u001b[A\n",
      " 17%|█▋        | 2069/12500 [00:00<00:02, 4124.64it/s]\u001b[A\n",
      " 20%|█▉        | 2453/12500 [00:00<00:02, 4078.68it/s]\u001b[A\n",
      " 24%|██▎       | 2944/12500 [00:00<00:02, 4194.56it/s]\u001b[A\n",
      " 27%|██▋       | 3398/12500 [00:00<00:02, 4236.44it/s]\u001b[A\n",
      " 31%|███       | 3817/12500 [00:00<00:02, 4179.24it/s]\u001b[A\n",
      " 34%|███▍      | 4223/12500 [00:01<00:01, 4153.68it/s]\u001b[A\n",
      " 38%|███▊      | 4734/12500 [00:01<00:01, 4238.78it/s]\u001b[A\n",
      " 42%|████▏     | 5202/12500 [00:01<00:01, 4271.99it/s]\u001b[A\n",
      " 45%|████▌     | 5647/12500 [00:01<00:01, 4260.64it/s]\u001b[A\n",
      " 49%|████▊     | 6081/12500 [00:01<00:01, 4255.89it/s]\u001b[A\n",
      " 52%|█████▏    | 6511/12500 [00:01<00:01, 4257.53it/s]\u001b[A\n",
      " 56%|█████▌    | 7006/12500 [00:01<00:01, 4299.58it/s]\u001b[A\n",
      " 60%|█████▉    | 7455/12500 [00:01<00:01, 4304.54it/s]\u001b[A\n",
      " 63%|██████▎   | 7901/12500 [00:01<00:01, 4311.80it/s]\u001b[A\n",
      " 67%|██████▋   | 8377/12500 [00:01<00:00, 4334.82it/s]\u001b[A\n",
      " 71%|███████   | 8832/12500 [00:02<00:00, 4321.98it/s]\u001b[A\n",
      " 74%|███████▍  | 9274/12500 [00:02<00:00, 4321.61it/s]\u001b[A\n",
      " 78%|███████▊  | 9712/12500 [00:02<00:00, 3647.33it/s]\u001b[A\n",
      " 81%|████████  | 10096/12500 [00:02<00:00, 3654.08it/s]\u001b[A\n",
      " 84%|████████▍ | 10478/12500 [00:02<00:00, 3659.39it/s]\u001b[A\n",
      " 87%|████████▋ | 10855/12500 [00:02<00:00, 3663.15it/s]\u001b[A\n",
      " 90%|█████████ | 11264/12500 [00:03<00:00, 3676.74it/s]\u001b[A\n",
      " 93%|█████████▎| 11664/12500 [00:03<00:00, 3686.51it/s]\u001b[A\n",
      " 97%|█████████▋| 12141/12500 [00:03<00:00, 3719.77it/s]\u001b[A\n",
      " 80%|████████  | 4/5 [00:11<00:02,  2.80s/it]35.99it/s]\u001b[A\n",
      "  0%|          | 0/50000 [00:00<?, ?it/s]\u001b[A\n",
      "  1%|          | 420/50000 [00:00<00:11, 4171.25it/s]\u001b[A\n",
      "  2%|▏         | 868/50000 [00:00<00:11, 4322.38it/s]\u001b[A\n",
      "  3%|▎         | 1313/50000 [00:00<00:11, 4355.21it/s]\u001b[A\n",
      "  4%|▎         | 1752/50000 [00:00<00:11, 4364.93it/s]\u001b[A\n",
      "  5%|▍         | 2276/50000 [00:00<00:10, 4539.88it/s]\u001b[A\n",
      "  6%|▌         | 2751/50000 [00:00<00:10, 4573.82it/s]\u001b[A\n",
      "  6%|▋         | 3194/50000 [00:00<00:10, 4553.83it/s]\u001b[A\n",
      "  7%|▋         | 3619/50000 [00:00<00:10, 4467.89it/s]\u001b[A\n",
      "  8%|▊         | 4034/50000 [00:00<00:10, 4412.96it/s]\u001b[A\n",
      "  9%|▉         | 4444/50000 [00:01<00:10, 4350.97it/s]\u001b[A\n",
      " 10%|▉         | 4846/50000 [00:01<00:10, 4276.95it/s]\u001b[A\n",
      " 10%|█         | 5235/50000 [00:01<00:10, 4188.71it/s]\u001b[A\n",
      " 11%|█         | 5614/50000 [00:01<00:10, 4169.80it/s]\u001b[A\n",
      " 12%|█▏        | 5989/50000 [00:01<00:10, 4122.46it/s]\u001b[A\n",
      " 13%|█▎        | 6357/50000 [00:01<00:10, 4085.08it/s]\u001b[A\n",
      " 13%|█▎        | 6722/50000 [00:01<00:10, 4055.22it/s]\u001b[A\n",
      " 14%|█▍        | 7192/50000 [00:01<00:10, 4091.42it/s]\u001b[A\n",
      " 15%|█▌        | 7678/50000 [00:01<00:10, 4132.77it/s]\u001b[A\n",
      " 16%|█▋        | 8202/50000 [00:01<00:09, 4188.57it/s]\u001b[A\n",
      " 17%|█▋        | 8740/50000 [00:02<00:09, 4246.32it/s]\u001b[A\n",
      " 19%|█▊        | 9268/50000 [00:02<00:09, 4294.17it/s]\u001b[A\n",
      " 20%|█▉        | 9781/50000 [00:02<00:09, 4331.01it/s]\u001b[A\n",
      " 21%|██        | 10281/50000 [00:02<00:09, 4359.29it/s]\u001b[A\n",
      " 22%|██▏       | 10782/50000 [00:02<00:08, 4385.45it/s]\u001b[A\n",
      " 23%|██▎       | 11332/50000 [00:02<00:08, 4428.99it/s]\u001b[A\n",
      " 24%|██▍       | 11879/50000 [00:02<00:08, 4468.13it/s]\u001b[A\n",
      " 25%|██▍       | 12433/50000 [00:02<00:08, 4506.98it/s]\u001b[A\n",
      " 26%|██▌       | 12985/50000 [00:02<00:08, 4542.06it/s]\u001b[A\n",
      " 27%|██▋       | 13542/50000 [00:02<00:07, 4576.69it/s]\u001b[A\n",
      " 28%|██▊       | 14086/50000 [00:03<00:07, 4588.11it/s]\u001b[A\n",
      " 29%|██▉       | 14620/50000 [00:03<00:07, 4611.70it/s]\u001b[A\n",
      " 30%|███       | 15168/50000 [00:03<00:07, 4637.91it/s]\u001b[A\n",
      " 31%|███▏      | 15719/50000 [00:03<00:07, 4663.74it/s]\u001b[A\n",
      " 33%|███▎      | 16259/50000 [00:03<00:07, 4684.23it/s]\u001b[A\n",
      " 34%|███▎      | 16798/50000 [00:03<00:07, 4701.18it/s]\u001b[A\n",
      " 35%|███▍      | 17373/50000 [00:03<00:06, 4729.68it/s]\u001b[A\n",
      " 36%|███▌      | 17921/50000 [00:03<00:06, 4749.31it/s]\u001b[A\n",
      " 37%|███▋      | 18487/50000 [00:03<00:06, 4772.75it/s]\u001b[A\n",
      " 38%|███▊      | 19040/50000 [00:03<00:06, 4776.72it/s]\u001b[A\n",
      " 39%|███▉      | 19575/50000 [00:04<00:06, 4787.80it/s]\u001b[A\n",
      " 40%|████      | 20119/50000 [00:04<00:06, 4802.98it/s]\u001b[A\n",
      " 41%|████▏     | 20657/50000 [00:04<00:06, 4815.73it/s]\u001b[A\n",
      " 42%|████▏     | 21192/50000 [00:04<00:05, 4825.42it/s]\u001b[A\n",
      " 43%|████▎     | 21742/50000 [00:04<00:05, 4839.92it/s]\u001b[A\n",
      " 45%|████▍     | 22279/50000 [00:04<00:05, 4841.56it/s]\u001b[A\n",
      " 46%|████▌     | 22802/50000 [00:04<00:05, 4841.91it/s]\u001b[A\n",
      " 47%|████▋     | 23314/50000 [00:04<00:05, 4842.48it/s]\u001b[A\n",
      " 48%|████▊     | 23819/50000 [00:04<00:05, 4835.64it/s]\u001b[A\n",
      " 49%|████▊     | 24309/50000 [00:05<00:05, 4831.55it/s]\u001b[A\n",
      " 50%|████▉     | 24856/50000 [00:05<00:05, 4843.90it/s]\u001b[A\n",
      " 51%|█████     | 25417/50000 [00:05<00:05, 4858.32it/s]\u001b[A\n",
      " 52%|█████▏    | 25966/50000 [00:05<00:04, 4869.92it/s]\u001b[A\n",
      " 53%|█████▎    | 26521/50000 [00:05<00:04, 4882.48it/s]\u001b[A\n",
      " 54%|█████▍    | 27078/50000 [00:05<00:04, 4894.78it/s]\u001b[A\n",
      " 55%|█████▌    | 27649/50000 [00:05<00:04, 4909.15it/s]\u001b[A\n",
      " 56%|█████▋    | 28200/50000 [00:05<00:04, 4914.44it/s]\u001b[A\n",
      " 58%|█████▊    | 28768/50000 [00:05<00:04, 4927.50it/s]\u001b[A\n",
      " 59%|█████▊    | 29317/50000 [00:05<00:04, 4936.84it/s]\u001b[A\n",
      " 60%|█████▉    | 29872/50000 [00:06<00:04, 4946.94it/s]\u001b[A\n",
      " 61%|██████    | 30430/50000 [00:06<00:03, 4957.23it/s]\u001b[A\n",
      " 62%|██████▏   | 30983/50000 [00:06<00:03, 4960.14it/s]\u001b[A\n",
      " 63%|██████▎   | 31524/50000 [00:06<00:03, 4964.71it/s]\u001b[A\n",
      " 64%|██████▍   | 32060/50000 [00:06<00:03, 4968.84it/s]\u001b[A\n",
      " 65%|██████▌   | 32605/50000 [00:06<00:03, 4976.04it/s]\u001b[A\n",
      " 66%|██████▋   | 33159/50000 [00:06<00:03, 4984.29it/s]\u001b[A\n",
      " 67%|██████▋   | 33739/50000 [00:06<00:03, 4996.20it/s]\u001b[A\n",
      " 69%|██████▊   | 34292/50000 [00:06<00:03, 5002.65it/s]\u001b[A\n",
      " 70%|██████▉   | 34843/50000 [00:06<00:03, 5009.90it/s]\u001b[A\n",
      " 71%|███████   | 35416/50000 [00:07<00:02, 5020.13it/s]\u001b[A\n",
      " 72%|███████▏  | 35973/50000 [00:07<00:02, 5027.19it/s]\u001b[A\n",
      " 73%|███████▎  | 36538/50000 [00:07<00:02, 5035.57it/s]\u001b[A\n",
      " 74%|███████▍  | 37105/50000 [00:07<00:02, 5044.22it/s]\u001b[A\n",
      " 75%|███████▌  | 37666/50000 [00:07<00:02, 5051.84it/s]\u001b[A\n",
      " 76%|███████▋  | 38227/50000 [00:07<00:02, 5056.26it/s]\u001b[A\n",
      " 78%|███████▊  | 38799/50000 [00:07<00:02, 5064.85it/s]\u001b[A\n",
      " 79%|███████▊  | 39358/50000 [00:07<00:02, 5065.81it/s]\u001b[A\n",
      " 80%|███████▉  | 39904/50000 [00:07<00:01, 5067.88it/s]\u001b[A\n",
      " 81%|████████  | 40443/50000 [00:07<00:01, 5071.37it/s]\u001b[A\n",
      " 82%|████████▏ | 41010/50000 [00:08<00:01, 5078.65it/s]\u001b[A\n",
      " 83%|████████▎ | 41571/50000 [00:08<00:01, 5085.12it/s]\u001b[A\n",
      " 84%|████████▍ | 42143/50000 [00:08<00:01, 5092.58it/s]\u001b[A\n",
      " 85%|████████▌ | 42700/50000 [00:08<00:01, 5095.27it/s]\u001b[A\n",
      " 86%|████████▋ | 43249/50000 [00:08<00:01, 5099.10it/s]\u001b[A\n",
      " 88%|████████▊ | 43805/50000 [00:08<00:01, 5104.38it/s]\u001b[A\n",
      " 89%|████████▊ | 44355/50000 [00:08<00:01, 5108.34it/s]\u001b[A\n",
      " 90%|████████▉ | 44903/50000 [00:08<00:00, 5111.13it/s]\u001b[A\n",
      " 91%|█████████ | 45452/50000 [00:08<00:00, 5115.37it/s]\u001b[A\n",
      " 92%|█████████▏| 45998/50000 [00:08<00:00, 5113.24it/s]\u001b[A\n",
      " 93%|█████████▎| 46533/50000 [00:09<00:00, 5115.86it/s]\u001b[A\n",
      " 94%|█████████▍| 47065/50000 [00:09<00:00, 5116.76it/s]\u001b[A\n",
      " 95%|█████████▌| 47594/50000 [00:09<00:00, 5111.83it/s]\u001b[A\n",
      " 96%|█████████▋| 48125/50000 [00:09<00:00, 5113.79it/s]\u001b[A\n",
      " 97%|█████████▋| 48663/50000 [00:09<00:00, 5116.47it/s]\u001b[A\n",
      " 98%|█████████▊| 49191/50000 [00:09<00:00, 5117.95it/s]\u001b[A\n",
      " 99%|█████████▉| 49724/50000 [00:09<00:00, 5119.93it/s]\u001b[A\n",
      "100%|██████████| 5/5 [00:21<00:00,  4.21s/it]19.00it/s]\u001b[A\n"
     ]
    }
   ],
   "source": [
    "reviews = load_imdb_data()"
   ]
  },
  {
   "cell_type": "code",
   "execution_count": 33,
   "metadata": {
    "collapsed": true
   },
   "outputs": [],
   "source": [
    "def vocab_idxs(data):\n",
    "    \"\"\"\n",
    "    Returns vocab, word2id and id2word, where\n",
    "    vocab: set of all words in data\n",
    "    word2id: dictionary that maps words on idxs\n",
    "    id2word: inverse dictionary to word2id\n",
    "    \n",
    "    data: \n",
    "    type: list\n",
    "    format: list of lists of words\n",
    "    \"\"\"\n",
    "    vocab = set()\n",
    "    for sentence in tqdm(data):\n",
    "        for s in sentence:\n",
    "            vocab.add(s)\n",
    "    vocab.remove(\"<sos>\")\n",
    "    word2id = {k:v for v, k in enumerate(vocab, 2)}\n",
    "    word2id['<m>'] = 0\n",
    "    word2id['<sos>'] = 1\n",
    "    vocab.add(\"<sos>\")\n",
    "    id2word = {v:k for k, v in word2id.items()}\n",
    "    return vocab, word2id, id2word"
   ]
  },
  {
   "cell_type": "code",
   "execution_count": 34,
   "metadata": {},
   "outputs": [
    {
     "name": "stderr",
     "output_type": "stream",
     "text": [
      "100%|██████████| 99348/99348 [00:00<00:00, 150107.17it/s]\n"
     ]
    }
   ],
   "source": [
    "vocab, word2id, id2word = vocab_idxs(reviews)"
   ]
  },
  {
   "cell_type": "code",
   "execution_count": 47,
   "metadata": {
    "collapsed": true
   },
   "outputs": [],
   "source": [
    "def sents2matrix(data, word2id, seq_len=41):\n",
    "    \"\"\"\n",
    "    Returns a matrix of integers\n",
    "    where each row represents a sentence\n",
    "    \n",
    "    data:\n",
    "    type: list\n",
    "    format: list of lists of words of the seq_len length\n",
    "    example: [['hello', 'world'], ['nice', 'day']]\n",
    "    ----------------------------------------------------\n",
    "    \n",
    "    word2id: dict that maps word on idxs\n",
    "    ----------------------------------------------------\n",
    "    \n",
    "    seq_len: len of lists contained in data\n",
    "    \"\"\"\n",
    "    \n",
    "    matrix = np.zeros((len(data), seq_len))\n",
    "    for i in tqdm(range(len(data))):\n",
    "        matrix[i] = np.array([int(word2id[word]) for word in data[i]])\n",
    "    return np.array(matrix)"
   ]
  },
  {
   "cell_type": "code",
   "execution_count": 48,
   "metadata": {
    "scrolled": true
   },
   "outputs": [
    {
     "name": "stderr",
     "output_type": "stream",
     "text": [
      "100%|██████████| 99348/99348 [00:01<00:00, 50628.77it/s]\n"
     ]
    }
   ],
   "source": [
    "m = sents2matrix(reviews, word2id)"
   ]
  },
  {
   "cell_type": "code",
   "execution_count": 73,
   "metadata": {
    "collapsed": true
   },
   "outputs": [],
   "source": [
    "import torch\n",
    "import torch.nn.functional as F\n",
    "from torch.utils.data import TensorDataset, DataLoader\n",
    "\n",
    "def prepare_imdb_data(batch_size=64, validation_size=0.15, path='', \n",
    "                      seq_len=40, gen=True, return_data=False):\n",
    "    \"\"\"\n",
    "    Prepares imdb data for further work with pytorch\n",
    "    \n",
    "    returns: train_loader, valid_loader, \n",
    "             vocab, word2id, id2word \n",
    "             and original reviews if return_data=True\n",
    "    -------------------------------------------------\n",
    "    \n",
    "    validation_size: size of valdation set\n",
    "    -------------------------------------------------\n",
    "    \n",
    "    for information about other parameters check the \n",
    "    doc of the load_imdb_data function\n",
    "    -------------------------------------------------\n",
    "    \"\"\"\n",
    "    \n",
    "    reviews = load_imdb_data(path='', seq_len=40, gen=True)\n",
    "    vocab, word2id, id2word = vocab_idxs(reviews)\n",
    "    matrix = sents2matrix(reviews, word2id)\n",
    "    \n",
    "    # Splitting data into train and validation\n",
    "    idx = np.random.choice(range(len(matrix)), \n",
    "                           size=len(matrix), replace=False)\n",
    "    split = int(len(idx) * (1 - validation_size))\n",
    "    train_idx = idx[:split]\n",
    "    valid_idx = idx[split:]\n",
    "    \n",
    "    train_data = TensorDataset(torch.LongTensor(matrix[train_idx]))\n",
    "    valid_data = TensorDataset(torch.LongTensor(matrix[valid_idx]))\n",
    "    \n",
    "    # Loading data to DataLoaders\n",
    "    train_loader = DataLoader(train_data, shuffle=True, batch_size=batch_size)\n",
    "    valid_loader = DataLoader(valid_data, shuffle=True, batch_size=batch_size)\n",
    "    print('Data has been successfully loaded')\n",
    "    if return_data:\n",
    "        return train_loader, valid_loader, vocab, word2id, id2word, reviews\n",
    "    else:\n",
    "        return train_loader, valid_loader, vocab, word2id, id2word"
   ]
  },
  {
   "cell_type": "code",
   "execution_count": 74,
   "metadata": {
    "scrolled": true
   },
   "outputs": [
    {
     "name": "stderr",
     "output_type": "stream",
     "text": [
      "100%|██████████| 5/5 [00:19<00:00,  3.82s/it]\n",
      "100%|██████████| 99348/99348 [00:00<00:00, 137862.90it/s]\n",
      "100%|██████████| 99348/99348 [00:01<00:00, 53420.65it/s]\n"
     ]
    },
    {
     "name": "stdout",
     "output_type": "stream",
     "text": [
      "Data has been successfully loaded\n"
     ]
    }
   ],
   "source": [
    "train_loader, valid_loader, vocab, word2id, id2word = prepare_imdb_data()"
   ]
  },
  {
   "cell_type": "code",
   "execution_count": null,
   "metadata": {
    "collapsed": true
   },
   "outputs": [],
   "source": []
  },
  {
   "cell_type": "code",
   "execution_count": null,
   "metadata": {
    "collapsed": true
   },
   "outputs": [],
   "source": []
  },
  {
   "cell_type": "code",
   "execution_count": null,
   "metadata": {
    "collapsed": true
   },
   "outputs": [],
   "source": []
  },
  {
   "cell_type": "code",
   "execution_count": null,
   "metadata": {
    "collapsed": true
   },
   "outputs": [],
   "source": []
  },
  {
   "cell_type": "code",
   "execution_count": null,
   "metadata": {
    "collapsed": true
   },
   "outputs": [],
   "source": []
  },
  {
   "cell_type": "code",
   "execution_count": 2,
   "metadata": {
    "scrolled": true
   },
   "outputs": [
    {
     "name": "stderr",
     "output_type": "stream",
     "text": [
      "100%|██████████| 50000/50000 [00:06<00:00, 7956.66it/s]\n"
     ]
    }
   ],
   "source": [
    "path = 'aclImdb/train/unsup/'\n",
    "reviews = load_imdb_data(path, gen=False)"
   ]
  },
  {
   "cell_type": "code",
   "execution_count": 3,
   "metadata": {},
   "outputs": [
    {
     "name": "stderr",
     "output_type": "stream",
     "text": [
      "100%|██████████| 50000/50000 [00:07<00:00, 6459.34it/s]\n"
     ]
    }
   ],
   "source": [
    "reviews_40 = load_imdb_data(path, gen=True)"
   ]
  },
  {
   "cell_type": "code",
   "execution_count": 4,
   "metadata": {},
   "outputs": [
    {
     "name": "stderr",
     "output_type": "stream",
     "text": [
      "100%|██████████| 49668/49668 [00:01<00:00, 33368.96it/s]\n"
     ]
    }
   ],
   "source": [
    "vocab, word2id, id2word = vocab_idxs(reviews)"
   ]
  },
  {
   "cell_type": "code",
   "execution_count": 5,
   "metadata": {},
   "outputs": [
    {
     "name": "stderr",
     "output_type": "stream",
     "text": [
      "100%|██████████| 49668/49668 [00:00<00:00, 63365.44it/s]\n"
     ]
    }
   ],
   "source": [
    "matrix = sents2matrix(reviews_40, word2id)"
   ]
  },
  {
   "cell_type": "code",
   "execution_count": 8,
   "metadata": {
    "collapsed": true
   },
   "outputs": [],
   "source": [
    "class PretrainedLSTM(nn.Module):\n",
    "    \n",
    "    def __init__(\n",
    "        self, hidden_dim, vocab_size,\n",
    "        embedding_dim, linear_dim=128, n_layers=3, device=\"cuda\"\n",
    "    ):\n",
    "        super().__init__()\n",
    "        self.hidden_dim = hidden_dim\n",
    "        self.embedding_dim = embedding_dim\n",
    "        self.n_layers = n_layers\n",
    "        self.device = device\n",
    "        \n",
    "        # Embeddings\n",
    "        self.embeddings = nn.Embedding(vocab_size, embedding_dim=embedding_dim)\n",
    "        \n",
    "        # LSTM\n",
    "        dropout = 1 if n_layers > 1 else 0\n",
    "        self.lstm = nn.LSTM(embedding_dim, hidden_dim, n_layers, batch_first=True, dropout=dropout)\n",
    "        \n",
    "        # fully-connected layes\n",
    "        self.fc = nn.Sequential(\n",
    "            nn.Linear(hidden_dim, linear_dim),\n",
    "            nn.ReLU(),\n",
    "            nn.Linear(linear_dim, linear_dim),\n",
    "            nn.ReLU(),\n",
    "            nn.Linear(linear_dim, vocab_size)\n",
    "        )\n",
    "      \n",
    "    \n",
    "    def forward(self, x):\n",
    "        ''' Forward pass through the network. \n",
    "            These inputs are x, and the hidden/cell state `hidden`. '''\n",
    "        \n",
    "        x = self.embeddings(x)\n",
    "        \n",
    "        h0 = torch.zeros(self.n_layers, x.size(0), self.hidden_dim).to(self.device)\n",
    "        c0 = torch.zeros(self.n_layers, x.size(0), self.hidden_dim).to(self.device)\n",
    "        \n",
    "        output, hidden = self.lstm(x, (h0, c0))\n",
    "        output = output.contiguous().view(-1, self.hidden_dim)\n",
    "        output = self.fc(output)\n",
    "        output = F.log_softmax(output)\n",
    "        \n",
    "        return output, hidden\n"
   ]
  },
  {
   "cell_type": "code",
   "execution_count": 10,
   "metadata": {},
   "outputs": [
    {
     "name": "stdout",
     "output_type": "stream",
     "text": [
      "embeddings.weight \t torch.Size([130296, 110])\n",
      "lstm.weight_ih_l0 \t torch.Size([1024, 110])\n",
      "lstm.weight_hh_l0 \t torch.Size([1024, 256])\n",
      "lstm.bias_ih_l0 \t torch.Size([1024])\n",
      "lstm.bias_hh_l0 \t torch.Size([1024])\n",
      "fc.0.weight \t torch.Size([256, 256])\n",
      "fc.0.bias \t torch.Size([256])\n",
      "fc.2.weight \t torch.Size([256, 256])\n",
      "fc.2.bias \t torch.Size([256])\n",
      "fc.4.weight \t torch.Size([130296, 256])\n",
      "fc.4.bias \t torch.Size([130296])\n"
     ]
    }
   ],
   "source": [
    "for param_tensor in model.state_dict():\n",
    "    print(param_tensor, \"\\t\", model.state_dict()[param_tensor].size())"
   ]
  },
  {
   "cell_type": "code",
   "execution_count": 24,
   "metadata": {
    "collapsed": true
   },
   "outputs": [],
   "source": [
    "model = torch.load(\"1_level_model.pt\")"
   ]
  },
  {
   "cell_type": "code",
   "execution_count": 25,
   "metadata": {},
   "outputs": [
    {
     "name": "stdout",
     "output_type": "stream",
     "text": [
      "embeddings.weight \t torch.Size([130296, 110])\n",
      "lstm.weight_ih_l0 \t torch.Size([1024, 110])\n",
      "lstm.weight_hh_l0 \t torch.Size([1024, 256])\n",
      "lstm.bias_ih_l0 \t torch.Size([1024])\n",
      "lstm.bias_hh_l0 \t torch.Size([1024])\n",
      "fc.0.weight \t torch.Size([128, 256])\n",
      "fc.0.bias \t torch.Size([128])\n",
      "fc.2.weight \t torch.Size([128, 128])\n",
      "fc.2.bias \t torch.Size([128])\n",
      "fc.4.weight \t torch.Size([130296, 128])\n",
      "fc.4.bias \t torch.Size([130296])\n"
     ]
    }
   ],
   "source": [
    "for param_tensor in model.state_dict():\n",
    "    print(param_tensor, \"\\t\", model.state_dict()[param_tensor].size())"
   ]
  },
  {
   "cell_type": "code",
   "execution_count": 27,
   "metadata": {
    "collapsed": true
   },
   "outputs": [],
   "source": [
    "a = dict()\n",
    "for layer in model.state_dict():\n",
    "    a[layer] = model.state_dict()[layer]"
   ]
  },
  {
   "cell_type": "code",
   "execution_count": 29,
   "metadata": {
    "collapsed": true
   },
   "outputs": [],
   "source": [
    "a = dict()\n",
    "torch.save(a, \"weights_1_layer\")"
   ]
  },
  {
   "cell_type": "code",
   "execution_count": 23,
   "metadata": {
    "collapsed": true
   },
   "outputs": [],
   "source": [
    "import torch\n",
    "import torch.nn.functional as F\n",
    "from torch.utils.data import TensorDataset, DataLoader\n",
    "\n",
    "device = torch.device('cuda' if torch.cuda.is_available() else 'cpu')\n",
    "batch_size = 64\n",
    "hidden_dim = 256\n",
    "linear_dim = 256\n",
    "embedding_dim = 110\n",
    "vocab_size = len(vocab)\n",
    "n_layers = 1\n",
    "\n",
    "train_data = TensorDataset(torch.LongTensor(matrix))\n",
    "train_loader = DataLoader(train_data, shuffle=True, batch_size=batch_size)\n",
    "\n",
    "model = PretrainedLSTM(hidden_dim, vocab_size, embedding_dim, linear_dim, n_layers, device=device)"
   ]
  },
  {
   "cell_type": "code",
   "execution_count": 13,
   "metadata": {
    "collapsed": true
   },
   "outputs": [],
   "source": [
    "import matplotlib.pyplot as plt\n",
    "%matplotlib inline"
   ]
  },
  {
   "cell_type": "code",
   "execution_count": 14,
   "metadata": {
    "collapsed": true
   },
   "outputs": [],
   "source": [
    "def eval_epoch(model, eval_loader, eval_on_gpu=True):\n",
    "    criterion = nn.NLLLoss()\n",
    "    loss_log = []\n",
    "    model.eval()\n",
    "    for sequence in eval_loader:\n",
    "        X = sequence[0][:, :-1].to(model.device)\n",
    "        y = sequence[0][:, 1:].to(model.device)\n",
    "        output, hidden = model(X)\n",
    "        loss = criterion(output, y.contiguous().view(-1))\n",
    "        loss_log.append(loss.item())\n",
    "    return loss_log\n",
    "\n",
    "def train_epoch(model, optimizer, train_loader, train_on_gpu=True):\n",
    "    criterion = nn.NLLLoss()\n",
    "    loss_log = []\n",
    "    model.train()\n",
    "    for sequence in train_loader:\n",
    "        optimizer.zero_grad()\n",
    "        X = sequence[0][:, :-1].to(model.device)\n",
    "        y = sequence[0][:, 1:].to(model.device)\n",
    "        output, hidden = model(X)\n",
    "        loss = criterion(output, y.contiguous().view(-1))\n",
    "        loss.backward()\n",
    "        optimizer.step()\n",
    "        loss_log.append(loss.item())\n",
    "    return loss_log   \n",
    "\n",
    "def plot_history(train_history, title='loss'):\n",
    "    plt.figure()\n",
    "    plt.title('{}'.format(title))\n",
    "    plt.plot(train_history, label='train', zorder=1)    \n",
    "    plt.xlabel('train steps')\n",
    "    plt.legend(loc='best')\n",
    "    plt.grid()\n",
    "    plt.show()\n",
    "    \n",
    "def train(model, opt, n_epochs, train_loader, train_on_gpu=True, save_to_disk=True):\n",
    "    train_log = []\n",
    "    total_steps = 0\n",
    "    \n",
    "    if train_on_gpu:\n",
    "        model.cuda()\n",
    "    for epoch in range(n_epochs):\n",
    "        train_loss = train_epoch(model, opt, train_loader)\n",
    "        train_log.extend(train_loss)\n",
    "        total_steps += len(train_loader)\n",
    "        \n",
    "        clear_output()\n",
    "        print ('Epoch [{}/{}], Loss: {:.4f}' \n",
    "                .format(epoch+1, n_epochs, np.mean(train_log[-100:])))\n",
    "        plot_history(train_log)\n",
    "        \n",
    "    if save_to_disk:\n",
    "        torch.save(model, 'model.pt')\n",
    "        \n",
    "def eval_model(model, eval_loader, eval_on_gpu=True):\n",
    "    eval_log = []\n",
    "    \n",
    "    if eval_on_gpu:\n",
    "        model.cuda()\n",
    "    eval_loss = eval_epoch(model, eval_loader)\n",
    "    eval_log.extend(eval_loss)\n",
    "\n",
    "    clear_output()\n",
    "    plot_history(eval_log)\n",
    "    return eval_log\n"
   ]
  },
  {
   "cell_type": "code",
   "execution_count": 17,
   "metadata": {
    "collapsed": true
   },
   "outputs": [],
   "source": [
    "#model=torch.load('mytraining.pt')"
   ]
  },
  {
   "cell_type": "code",
   "execution_count": 11,
   "metadata": {},
   "outputs": [
    {
     "name": "stderr",
     "output_type": "stream",
     "text": [
      "/home/grievous/.local/lib/python3.6/site-packages/ipykernel_launcher.py:42: UserWarning: Implicit dimension choice for log_softmax has been deprecated. Change the call to include dim=X as an argument.\n"
     ]
    },
    {
     "ename": "RuntimeError",
     "evalue": "CUDA error: device-side assert triggered",
     "output_type": "error",
     "traceback": [
      "\u001b[0;31m---------------------------------------------------------------------------\u001b[0m",
      "\u001b[0;31mRuntimeError\u001b[0m                              Traceback (most recent call last)",
      "\u001b[0;32m<ipython-input-11-765285cf4bef>\u001b[0m in \u001b[0;36m<module>\u001b[0;34m\u001b[0m\n\u001b[1;32m      1\u001b[0m \u001b[0mopt\u001b[0m \u001b[0;34m=\u001b[0m \u001b[0mtorch\u001b[0m\u001b[0;34m.\u001b[0m\u001b[0moptim\u001b[0m\u001b[0;34m.\u001b[0m\u001b[0mAdam\u001b[0m\u001b[0;34m(\u001b[0m\u001b[0mmodel\u001b[0m\u001b[0;34m.\u001b[0m\u001b[0mparameters\u001b[0m\u001b[0;34m(\u001b[0m\u001b[0;34m)\u001b[0m\u001b[0;34m,\u001b[0m \u001b[0mlr\u001b[0m\u001b[0;34m=\u001b[0m\u001b[0;36m1e-4\u001b[0m\u001b[0;34m)\u001b[0m\u001b[0;34m\u001b[0m\u001b[0;34m\u001b[0m\u001b[0m\n\u001b[0;32m----> 2\u001b[0;31m \u001b[0mtrain\u001b[0m\u001b[0;34m(\u001b[0m\u001b[0mmodel\u001b[0m\u001b[0;34m,\u001b[0m \u001b[0mopt\u001b[0m\u001b[0;34m,\u001b[0m \u001b[0;36m100\u001b[0m\u001b[0;34m,\u001b[0m \u001b[0mtrain_loader\u001b[0m\u001b[0;34m)\u001b[0m\u001b[0;34m\u001b[0m\u001b[0;34m\u001b[0m\u001b[0m\n\u001b[0m",
      "\u001b[0;32m<ipython-input-9-e40ea1545ec2>\u001b[0m in \u001b[0;36mtrain\u001b[0;34m(model, opt, n_epochs, train_loader, train_on_gpu, save_to_disk)\u001b[0m\n\u001b[1;32m     42\u001b[0m         \u001b[0mmodel\u001b[0m\u001b[0;34m.\u001b[0m\u001b[0mcuda\u001b[0m\u001b[0;34m(\u001b[0m\u001b[0;34m)\u001b[0m\u001b[0;34m\u001b[0m\u001b[0;34m\u001b[0m\u001b[0m\n\u001b[1;32m     43\u001b[0m     \u001b[0;32mfor\u001b[0m \u001b[0mepoch\u001b[0m \u001b[0;32min\u001b[0m \u001b[0mrange\u001b[0m\u001b[0;34m(\u001b[0m\u001b[0mn_epochs\u001b[0m\u001b[0;34m)\u001b[0m\u001b[0;34m:\u001b[0m\u001b[0;34m\u001b[0m\u001b[0;34m\u001b[0m\u001b[0m\n\u001b[0;32m---> 44\u001b[0;31m         \u001b[0mtrain_loss\u001b[0m \u001b[0;34m=\u001b[0m \u001b[0mtrain_epoch\u001b[0m\u001b[0;34m(\u001b[0m\u001b[0mmodel\u001b[0m\u001b[0;34m,\u001b[0m \u001b[0mopt\u001b[0m\u001b[0;34m,\u001b[0m \u001b[0mtrain_loader\u001b[0m\u001b[0;34m)\u001b[0m\u001b[0;34m\u001b[0m\u001b[0;34m\u001b[0m\u001b[0m\n\u001b[0m\u001b[1;32m     45\u001b[0m         \u001b[0mtrain_log\u001b[0m\u001b[0;34m.\u001b[0m\u001b[0mextend\u001b[0m\u001b[0;34m(\u001b[0m\u001b[0mtrain_loss\u001b[0m\u001b[0;34m)\u001b[0m\u001b[0;34m\u001b[0m\u001b[0;34m\u001b[0m\u001b[0m\n\u001b[1;32m     46\u001b[0m         \u001b[0mtotal_steps\u001b[0m \u001b[0;34m+=\u001b[0m \u001b[0mlen\u001b[0m\u001b[0;34m(\u001b[0m\u001b[0mtrain_loader\u001b[0m\u001b[0;34m)\u001b[0m\u001b[0;34m\u001b[0m\u001b[0;34m\u001b[0m\u001b[0m\n",
      "\u001b[0;32m<ipython-input-9-e40ea1545ec2>\u001b[0m in \u001b[0;36mtrain_epoch\u001b[0;34m(model, optimizer, train_loader, train_on_gpu)\u001b[0m\n\u001b[1;32m     19\u001b[0m         \u001b[0mX\u001b[0m \u001b[0;34m=\u001b[0m \u001b[0msequence\u001b[0m\u001b[0;34m[\u001b[0m\u001b[0;36m0\u001b[0m\u001b[0;34m]\u001b[0m\u001b[0;34m[\u001b[0m\u001b[0;34m:\u001b[0m\u001b[0;34m,\u001b[0m \u001b[0;34m:\u001b[0m\u001b[0;34m-\u001b[0m\u001b[0;36m1\u001b[0m\u001b[0;34m]\u001b[0m\u001b[0;34m.\u001b[0m\u001b[0mto\u001b[0m\u001b[0;34m(\u001b[0m\u001b[0mmodel\u001b[0m\u001b[0;34m.\u001b[0m\u001b[0mdevice\u001b[0m\u001b[0;34m)\u001b[0m\u001b[0;34m\u001b[0m\u001b[0;34m\u001b[0m\u001b[0m\n\u001b[1;32m     20\u001b[0m         \u001b[0my\u001b[0m \u001b[0;34m=\u001b[0m \u001b[0msequence\u001b[0m\u001b[0;34m[\u001b[0m\u001b[0;36m0\u001b[0m\u001b[0;34m]\u001b[0m\u001b[0;34m[\u001b[0m\u001b[0;34m:\u001b[0m\u001b[0;34m,\u001b[0m \u001b[0;36m1\u001b[0m\u001b[0;34m:\u001b[0m\u001b[0;34m]\u001b[0m\u001b[0;34m.\u001b[0m\u001b[0mto\u001b[0m\u001b[0;34m(\u001b[0m\u001b[0mmodel\u001b[0m\u001b[0;34m.\u001b[0m\u001b[0mdevice\u001b[0m\u001b[0;34m)\u001b[0m\u001b[0;34m\u001b[0m\u001b[0;34m\u001b[0m\u001b[0m\n\u001b[0;32m---> 21\u001b[0;31m         \u001b[0moutput\u001b[0m\u001b[0;34m,\u001b[0m \u001b[0mhidden\u001b[0m \u001b[0;34m=\u001b[0m \u001b[0mmodel\u001b[0m\u001b[0;34m(\u001b[0m\u001b[0mX\u001b[0m\u001b[0;34m)\u001b[0m\u001b[0;34m\u001b[0m\u001b[0;34m\u001b[0m\u001b[0m\n\u001b[0m\u001b[1;32m     22\u001b[0m         \u001b[0mloss\u001b[0m \u001b[0;34m=\u001b[0m \u001b[0mcriterion\u001b[0m\u001b[0;34m(\u001b[0m\u001b[0moutput\u001b[0m\u001b[0;34m,\u001b[0m \u001b[0my\u001b[0m\u001b[0;34m.\u001b[0m\u001b[0mcontiguous\u001b[0m\u001b[0;34m(\u001b[0m\u001b[0;34m)\u001b[0m\u001b[0;34m.\u001b[0m\u001b[0mview\u001b[0m\u001b[0;34m(\u001b[0m\u001b[0;34m-\u001b[0m\u001b[0;36m1\u001b[0m\u001b[0;34m)\u001b[0m\u001b[0;34m)\u001b[0m\u001b[0;34m\u001b[0m\u001b[0;34m\u001b[0m\u001b[0m\n\u001b[1;32m     23\u001b[0m         \u001b[0mloss\u001b[0m\u001b[0;34m.\u001b[0m\u001b[0mbackward\u001b[0m\u001b[0;34m(\u001b[0m\u001b[0;34m)\u001b[0m\u001b[0;34m\u001b[0m\u001b[0;34m\u001b[0m\u001b[0m\n",
      "\u001b[0;32m~/anaconda3/envs/my_env/lib/python3.6/site-packages/torch/nn/modules/module.py\u001b[0m in \u001b[0;36m__call__\u001b[0;34m(self, *input, **kwargs)\u001b[0m\n\u001b[1;32m    487\u001b[0m             \u001b[0mresult\u001b[0m \u001b[0;34m=\u001b[0m \u001b[0mself\u001b[0m\u001b[0;34m.\u001b[0m\u001b[0m_slow_forward\u001b[0m\u001b[0;34m(\u001b[0m\u001b[0;34m*\u001b[0m\u001b[0minput\u001b[0m\u001b[0;34m,\u001b[0m \u001b[0;34m**\u001b[0m\u001b[0mkwargs\u001b[0m\u001b[0;34m)\u001b[0m\u001b[0;34m\u001b[0m\u001b[0;34m\u001b[0m\u001b[0m\n\u001b[1;32m    488\u001b[0m         \u001b[0;32melse\u001b[0m\u001b[0;34m:\u001b[0m\u001b[0;34m\u001b[0m\u001b[0;34m\u001b[0m\u001b[0m\n\u001b[0;32m--> 489\u001b[0;31m             \u001b[0mresult\u001b[0m \u001b[0;34m=\u001b[0m \u001b[0mself\u001b[0m\u001b[0;34m.\u001b[0m\u001b[0mforward\u001b[0m\u001b[0;34m(\u001b[0m\u001b[0;34m*\u001b[0m\u001b[0minput\u001b[0m\u001b[0;34m,\u001b[0m \u001b[0;34m**\u001b[0m\u001b[0mkwargs\u001b[0m\u001b[0;34m)\u001b[0m\u001b[0;34m\u001b[0m\u001b[0;34m\u001b[0m\u001b[0m\n\u001b[0m\u001b[1;32m    490\u001b[0m         \u001b[0;32mfor\u001b[0m \u001b[0mhook\u001b[0m \u001b[0;32min\u001b[0m \u001b[0mself\u001b[0m\u001b[0;34m.\u001b[0m\u001b[0m_forward_hooks\u001b[0m\u001b[0;34m.\u001b[0m\u001b[0mvalues\u001b[0m\u001b[0;34m(\u001b[0m\u001b[0;34m)\u001b[0m\u001b[0;34m:\u001b[0m\u001b[0;34m\u001b[0m\u001b[0;34m\u001b[0m\u001b[0m\n\u001b[1;32m    491\u001b[0m             \u001b[0mhook_result\u001b[0m \u001b[0;34m=\u001b[0m \u001b[0mhook\u001b[0m\u001b[0;34m(\u001b[0m\u001b[0mself\u001b[0m\u001b[0;34m,\u001b[0m \u001b[0minput\u001b[0m\u001b[0;34m,\u001b[0m \u001b[0mresult\u001b[0m\u001b[0;34m)\u001b[0m\u001b[0;34m\u001b[0m\u001b[0;34m\u001b[0m\u001b[0m\n",
      "\u001b[0;32m<ipython-input-6-357235e1a04d>\u001b[0m in \u001b[0;36mforward\u001b[0;34m(self, x)\u001b[0m\n\u001b[1;32m     34\u001b[0m         \u001b[0mx\u001b[0m \u001b[0;34m=\u001b[0m \u001b[0mself\u001b[0m\u001b[0;34m.\u001b[0m\u001b[0membeddings\u001b[0m\u001b[0;34m(\u001b[0m\u001b[0mx\u001b[0m\u001b[0;34m)\u001b[0m\u001b[0;34m\u001b[0m\u001b[0;34m\u001b[0m\u001b[0m\n\u001b[1;32m     35\u001b[0m \u001b[0;34m\u001b[0m\u001b[0m\n\u001b[0;32m---> 36\u001b[0;31m         \u001b[0mh0\u001b[0m \u001b[0;34m=\u001b[0m \u001b[0mtorch\u001b[0m\u001b[0;34m.\u001b[0m\u001b[0mzeros\u001b[0m\u001b[0;34m(\u001b[0m\u001b[0mself\u001b[0m\u001b[0;34m.\u001b[0m\u001b[0mn_layers\u001b[0m\u001b[0;34m,\u001b[0m \u001b[0mx\u001b[0m\u001b[0;34m.\u001b[0m\u001b[0msize\u001b[0m\u001b[0;34m(\u001b[0m\u001b[0;36m0\u001b[0m\u001b[0;34m)\u001b[0m\u001b[0;34m,\u001b[0m \u001b[0mself\u001b[0m\u001b[0;34m.\u001b[0m\u001b[0mhidden_dim\u001b[0m\u001b[0;34m)\u001b[0m\u001b[0;34m.\u001b[0m\u001b[0mto\u001b[0m\u001b[0;34m(\u001b[0m\u001b[0mself\u001b[0m\u001b[0;34m.\u001b[0m\u001b[0mdevice\u001b[0m\u001b[0;34m)\u001b[0m\u001b[0;34m\u001b[0m\u001b[0;34m\u001b[0m\u001b[0m\n\u001b[0m\u001b[1;32m     37\u001b[0m         \u001b[0mc0\u001b[0m \u001b[0;34m=\u001b[0m \u001b[0mtorch\u001b[0m\u001b[0;34m.\u001b[0m\u001b[0mzeros\u001b[0m\u001b[0;34m(\u001b[0m\u001b[0mself\u001b[0m\u001b[0;34m.\u001b[0m\u001b[0mn_layers\u001b[0m\u001b[0;34m,\u001b[0m \u001b[0mx\u001b[0m\u001b[0;34m.\u001b[0m\u001b[0msize\u001b[0m\u001b[0;34m(\u001b[0m\u001b[0;36m0\u001b[0m\u001b[0;34m)\u001b[0m\u001b[0;34m,\u001b[0m \u001b[0mself\u001b[0m\u001b[0;34m.\u001b[0m\u001b[0mhidden_dim\u001b[0m\u001b[0;34m)\u001b[0m\u001b[0;34m.\u001b[0m\u001b[0mto\u001b[0m\u001b[0;34m(\u001b[0m\u001b[0mself\u001b[0m\u001b[0;34m.\u001b[0m\u001b[0mdevice\u001b[0m\u001b[0;34m)\u001b[0m\u001b[0;34m\u001b[0m\u001b[0;34m\u001b[0m\u001b[0m\n\u001b[1;32m     38\u001b[0m \u001b[0;34m\u001b[0m\u001b[0m\n",
      "\u001b[0;31mRuntimeError\u001b[0m: CUDA error: device-side assert triggered"
     ]
    }
   ],
   "source": [
    "opt = torch.optim.Adam(model.parameters(), lr=1e-4)\n",
    "train(model, opt, 100, train_loader)"
   ]
  },
  {
   "cell_type": "code",
   "execution_count": 30,
   "metadata": {},
   "outputs": [
    {
     "data": {
      "image/png": "[encoded data removed]",
      "text/plain": [
       "<Figure size 432x288 with 1 Axes>"
      ]
     },
     "metadata": {
      "needs_background": "light"
     },
     "output_type": "display_data"
    }
   ],
   "source": [
    "log = eval_model(model, train_loader)"
   ]
  }
 ],
 "metadata": {
  "kernelspec": {
   "display_name": "Python 3",
   "language": "python",
   "name": "python3"
  },
  "language_info": {
   "codemirror_mode": {
    "name": "ipython",
    "version": 3
   },
   "file_extension": ".py",
   "mimetype": "text/x-python",
   "name": "python",
   "nbconvert_exporter": "python",
   "pygments_lexer": "ipython3",
   "version": "3.6.1"
  },
  "toc": {
   "base_numbering": 1,
   "nav_menu": {},
   "number_sections": true,
   "sideBar": true,
   "skip_h1_title": false,
   "title_cell": "Table of Contents",
   "title_sidebar": "Contents",
   "toc_cell": false,
   "toc_position": {},
   "toc_section_display": true,
   "toc_window_display": false
  },
  "varInspector": {
   "cols": {
    "lenName": 16,
    "lenType": 16,
    "lenVar": 40
   },
   "kernels_config": {
    "python": {
     "delete_cmd_postfix": "",
     "delete_cmd_prefix": "del ",
     "library": "var_list.py",
     "varRefreshCmd": "print(var_dic_list())"
    },
    "r": {
     "delete_cmd_postfix": ") ",
     "delete_cmd_prefix": "rm(",
     "library": "var_list.r",
     "varRefreshCmd": "cat(var_dic_list()) "
    }
   },
   "types_to_exclude": [
    "module",
    "function",
    "builtin_function_or_method",
    "instance",
    "_Feature"
   ],
   "window_display": false
  }
 },
 "nbformat": 4,
 "nbformat_minor": 2
}
