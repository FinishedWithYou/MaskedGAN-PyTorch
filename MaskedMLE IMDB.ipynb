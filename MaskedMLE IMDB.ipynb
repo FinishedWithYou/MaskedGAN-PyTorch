{
 "cells": [
  {
   "cell_type": "code",
   "execution_count": 1,
   "metadata": {},
   "outputs": [],
   "source": [
    "import pandas as pd\n",
    "import numpy as np\n",
    "from tqdm import tqdm\n",
    "\n",
    "import torch\n",
    "import torch.nn as nn\n",
    "from torch.nn import functional as F\n",
    "from torch import optim\n",
    "from IPython.display import clear_output"
   ]
  },
  {
   "cell_type": "code",
   "execution_count": 2,
   "metadata": {},
   "outputs": [],
   "source": [
    "import re\n",
    "prog = re.compile('[A-Za-z0-9]+')\n",
    "\n",
    "path = 'aclImdb/train/unsup/'\n",
    "\n",
    "def load_imdb_data(path, seq_len=40, gen=False):\n",
    "    \"\"\"\n",
    "    Loads IMDB 50k unsupervised reviews\n",
    "    \n",
    "    path: str, path to the unsupervised reviews data\n",
    "    seq_len: minimum length of sequence\n",
    "    gen: if True all the reviews will be length of seq_len\n",
    "    \"\"\"\n",
    "    reviews = []\n",
    "    \n",
    "    for i in tqdm(range(50000)):\n",
    "        with open(path + f'{i}_0.txt', 'r') as f:\n",
    "            rev = f.read()\n",
    "        \n",
    "        rev = rev.replace(' br ', ' ')\n",
    "        if len(prog.findall(rev)) >= seq_len:\n",
    "            if gen:\n",
    "                reviews.append(['<sos>'] + prog.findall(rev)[:seq_len])\n",
    "                if len(prog.findall(rev)[:seq_len]) == 39:\n",
    "                    print(len(rev.split()))\n",
    "            else:\n",
    "                reviews.append(['<sos>'] + prog.findall(rev))\n",
    "    return reviews"
   ]
  },
  {
   "cell_type": "code",
   "execution_count": 3,
   "metadata": {
    "scrolled": true
   },
   "outputs": [
    {
     "name": "stderr",
     "output_type": "stream",
     "text": [
      "100%|██████████| 50000/50000 [00:06<00:00, 7967.19it/s]\n"
     ]
    }
   ],
   "source": [
    "reviews = load_imdb_data(path, gen=False)"
   ]
  },
  {
   "cell_type": "code",
   "execution_count": 4,
   "metadata": {},
   "outputs": [
    {
     "name": "stderr",
     "output_type": "stream",
     "text": [
      "100%|██████████| 50000/50000 [00:07<00:00, 6421.87it/s]\n"
     ]
    }
   ],
   "source": [
    "reviews_40 = load_imdb_data(path, gen=True)"
   ]
  },
  {
   "cell_type": "code",
   "execution_count": 5,
   "metadata": {},
   "outputs": [],
   "source": [
    "def vocab_idxs(data):\n",
    "    \"\"\"\n",
    "    Returns vocab, word2id and id2word, where\n",
    "    vocab: set of all words in data\n",
    "    word2id: dictionary that maps words on idxs\n",
    "    id2word: inverse dictionary to word2id\n",
    "    \n",
    "    data: \n",
    "    type: list\n",
    "    format: list of lists of words\n",
    "    \"\"\"\n",
    "    vocab = set()\n",
    "    for sentence in tqdm(data):\n",
    "        for s in sentence:\n",
    "            vocab.add(s)\n",
    "    word2id = {k:v for v, k in enumerate(vocab, 1)}\n",
    "    word2id['<m>'] = 0\n",
    "    id2word = {v:k for k, v in word2id.items()}\n",
    "    return vocab, word2id, id2word"
   ]
  },
  {
   "cell_type": "code",
   "execution_count": 6,
   "metadata": {},
   "outputs": [
    {
     "name": "stderr",
     "output_type": "stream",
     "text": [
      "100%|██████████| 49668/49668 [00:01<00:00, 32466.96it/s]\n"
     ]
    }
   ],
   "source": [
    "vocab, word2id, id2word = vocab_idxs(reviews)"
   ]
  },
  {
   "cell_type": "code",
   "execution_count": 7,
   "metadata": {},
   "outputs": [],
   "source": [
    "def sents2matrix(data, word2id, seq_len=41):\n",
    "    \"\"\"\n",
    "    Returns a matrix of integers\n",
    "    where each row represents a sentence\n",
    "    \n",
    "    data:\n",
    "    type: list\n",
    "    format: list of lists of words of the seq_len length\n",
    "    example: [['hello', 'world'], ['nice', 'day']]\n",
    "    ----------------------------------------------------\n",
    "    \n",
    "    word2id: dict that maps word on idxs\n",
    "    ----------------------------------------------------\n",
    "    \n",
    "    seq_len: len of lists contained in data\n",
    "    \"\"\"\n",
    "    \n",
    "    matrix = np.zeros((len(data), seq_len))\n",
    "    for i in tqdm(range(len(data))):\n",
    "        matrix[i] = np.array([int(word2id[word]) for word in data[i]])\n",
    "    return np.array(matrix)"
   ]
  },
  {
   "cell_type": "code",
   "execution_count": 8,
   "metadata": {},
   "outputs": [
    {
     "name": "stderr",
     "output_type": "stream",
     "text": [
      "100%|██████████| 49668/49668 [00:00<00:00, 60799.38it/s]\n"
     ]
    }
   ],
   "source": [
    "matrix = sents2matrix(reviews_40, word2id)"
   ]
  },
  {
   "cell_type": "code",
   "execution_count": 9,
   "metadata": {},
   "outputs": [],
   "source": [
    "import torch\n",
    "from torch.utils.data import TensorDataset, DataLoader\n",
    "\n",
    "# create Tensor datasets\n",
    "train_data = TensorDataset(torch.LongTensor(matrix))\n",
    "\n",
    "# dataloaders\n",
    "batch_size = 64\n",
    "\n",
    "# make sure the SHUFFLE your training data\n",
    "train_loader = DataLoader(train_data, shuffle=True, batch_size=batch_size)"
   ]
  },
  {
   "cell_type": "code",
   "execution_count": 10,
   "metadata": {},
   "outputs": [],
   "source": [
    "class PretrainedLSTM(nn.Module):\n",
    "    \n",
    "    def __init__(\n",
    "        self, hidden_dim, vocab_size,\n",
    "        embedding_dim, linear_dim=256, n_layers=3, device=\"cuda\"\n",
    "    ):\n",
    "        super().__init__()\n",
    "        self.hidden_dim = hidden_dim\n",
    "        self.embedding_dim = embedding_dim\n",
    "        self.n_layers = n_layers\n",
    "        self.device = device\n",
    "        \n",
    "        # Embeddings\n",
    "        self.embeddings = nn.Embedding(vocab_size, embedding_dim=embedding_dim)\n",
    "        \n",
    "        # LSTM\n",
    "        self.lstm = nn.LSTM(embedding_dim, hidden_dim, n_layers, batch_first=True)\n",
    "        \n",
    "        # fully-connected layes\n",
    "        self.fc = nn.Sequential(\n",
    "            nn.Linear(hidden_dim, linear_dim),\n",
    "            nn.ReLU(),\n",
    "            nn.Linear(linear_dim, linear_dim),\n",
    "            nn.ReLU(),\n",
    "            nn.Linear(linear_dim, vocab_size)\n",
    "        )\n",
    "      \n",
    "    \n",
    "    def forward(self, x):\n",
    "        ''' Forward pass through the network. \n",
    "            These inputs are x, and the hidden/cell state `hidden`. '''\n",
    "        \n",
    "        x = self.embeddings(x)\n",
    "        \n",
    "        h0 = torch.zeros(self.n_layers, x.size(0), self.hidden_dim).to(self.device)\n",
    "        c0 = torch.zeros(self.n_layers, x.size(0), self.hidden_dim).to(self.device)\n",
    "        \n",
    "        output, hidden = self.lstm(x, (h0, c0))\n",
    "        output = output.contiguous().view(-1, self.hidden_dim)\n",
    "        output = self.fc(output)\n",
    "        \n",
    "        return output, hidden\n"
   ]
  },
  {
   "cell_type": "code",
   "execution_count": 11,
   "metadata": {},
   "outputs": [],
   "source": [
    "hidden_dim = 256\n",
    "embedding_dim = 110\n",
    "vocab_size = len(vocab)\n",
    "\n",
    "# check if GPU is available\n",
    "device = torch.device('cuda' if torch.cuda.is_available() else 'cpu')\n",
    "\n",
    "model = PretrainedLSTM(hidden_dim, vocab_size, embedding_dim, device=device)"
   ]
  },
  {
   "cell_type": "code",
   "execution_count": 12,
   "metadata": {},
   "outputs": [],
   "source": [
    "import matplotlib.pyplot as plt\n",
    "%matplotlib inline"
   ]
  },
  {
   "cell_type": "code",
   "execution_count": 13,
   "metadata": {},
   "outputs": [],
   "source": [
    "def train_epoch(model, optimizer, train_loader, train_on_gpu=True):\n",
    "    criterion = nn.CrossEntropyLoss()\n",
    "    loss_log = []\n",
    "    model.train()\n",
    "    for sequence in train_loader:\n",
    "        optimizer.zero_grad()\n",
    "        X = sequence[0][:, :-1].to(model.device)\n",
    "        y = sequence[0][:, 1:].to(model.device)\n",
    "        output, hidden = model(X)\n",
    "        loss = criterion(output, y.contiguous().view(-1))\n",
    "        loss.backward()\n",
    "        optimizer.step()\n",
    "        loss_log.append(loss.item())\n",
    "    return loss_log   \n",
    "\n",
    "def plot_history(train_history, title='loss'):\n",
    "    plt.figure()\n",
    "    plt.title('{}'.format(title))\n",
    "    plt.plot(train_history, label='train', zorder=1)    \n",
    "    plt.xlabel('train steps')\n",
    "    plt.legend(loc='best')\n",
    "    plt.grid()\n",
    "    plt.show()\n",
    "    \n",
    "def train(model, opt, n_epochs, train_loader, train_on_gpu=True):\n",
    "    train_log = []\n",
    "    total_steps = 0\n",
    "    \n",
    "    if train_on_gpu:\n",
    "        model.cuda()\n",
    "    for epoch in range(n_epochs):\n",
    "        train_loss = train_epoch(model, opt, train_loader)\n",
    "        train_log.extend(train_loss)\n",
    "        total_steps += len(train_loader)\n",
    "        \n",
    "        train_log.extend(train_loss)\n",
    "        \n",
    "        clear_output()\n",
    "        plot_history(train_log)"
   ]
  },
  {
   "cell_type": "code",
   "execution_count": null,
   "metadata": {},
   "outputs": [
    {
     "data": {
      "image/png": "[encoded data removed]",
      "text/plain": [
       "<Figure size 432x288 with 1 Axes>"
      ]
     },
     "metadata": {
      "needs_background": "light"
     },
     "output_type": "display_data"
    }
   ],
   "source": [
    "opt = torch.optim.Adam(model.parameters(), lr=1e-4)\n",
    "train(model, opt, 20, train_loader)"
   ]
  },
  {
   "cell_type": "code",
   "execution_count": null,
   "metadata": {},
   "outputs": [],
   "source": [
    "torch.save(model.state_dict(), 'model.ckpt')"
   ]
  }
 ],
 "metadata": {
  "kernelspec": {
   "display_name": "my_env",
   "language": "python",
   "name": "my_env"
  },
  "language_info": {
   "codemirror_mode": {
    "name": "ipython",
    "version": 3
   },
   "file_extension": ".py",
   "mimetype": "text/x-python",
   "name": "python",
   "nbconvert_exporter": "python",
   "pygments_lexer": "ipython3",
   "version": "3.6.8"
  },
  "toc": {
   "base_numbering": 1,
   "nav_menu": {},
   "number_sections": true,
   "sideBar": true,
   "skip_h1_title": false,
   "title_cell": "Table of Contents",
   "title_sidebar": "Contents",
   "toc_cell": false,
   "toc_position": {},
   "toc_section_display": true,
   "toc_window_display": false
  },
  "varInspector": {
   "cols": {
    "lenName": 16,
    "lenType": 16,
    "lenVar": 40
   },
   "kernels_config": {
    "python": {
     "delete_cmd_postfix": "",
     "delete_cmd_prefix": "del ",
     "library": "var_list.py",
     "varRefreshCmd": "print(var_dic_list())"
    },
    "r": {
     "delete_cmd_postfix": ") ",
     "delete_cmd_prefix": "rm(",
     "library": "var_list.r",
     "varRefreshCmd": "cat(var_dic_list()) "
    }
   },
   "types_to_exclude": [
    "module",
    "function",
    "builtin_function_or_method",
    "instance",
    "_Feature"
   ],
   "window_display": false
  }
 },
 "nbformat": 4,
 "nbformat_minor": 2
}
